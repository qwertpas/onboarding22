{
 "cells": [
  {
   "cell_type": "code",
   "execution_count": 1,
   "metadata": {},
   "outputs": [],
   "source": [
    "import pandas as pd\n",
    "import numpy as np"
   ]
  },
  {
   "cell_type": "code",
   "execution_count": 120,
   "metadata": {},
   "outputs": [
    {
     "name": "stdout",
     "output_type": "stream",
     "text": [
      "{'error': True, 'reason': 'Cannot initialize IconVariable from invalid String value diffuse_radiationwindspeed_10m for key hourly'}\n"
     ]
    },
    {
     "ename": "KeyError",
     "evalue": "'diffuse_radiationwindspeed_10m'",
     "output_type": "error",
     "traceback": [
      "\u001b[0;31m---------------------------------------------------------------------------\u001b[0m",
      "\u001b[0;31mKeyError\u001b[0m                                  Traceback (most recent call last)",
      "\u001b[1;32m/Users/christopherxu/Solarcar/onboarding22/sandbox.ipynb Cell 2\u001b[0m in \u001b[0;36m<cell line: 57>\u001b[0;34m()\u001b[0m\n\u001b[1;32m     <a href='vscode-notebook-cell:/Users/christopherxu/Solarcar/onboarding22/sandbox.ipynb#X16sZmlsZQ%3D%3D?line=51'>52</a>\u001b[0m             forecast[\u001b[39m'\u001b[39m\u001b[39mtimestamps\u001b[39m\u001b[39m'\u001b[39m] \u001b[39m=\u001b[39m data[\u001b[39m'\u001b[39m\u001b[39mtime\u001b[39m\u001b[39m'\u001b[39m][:\u001b[39mlen\u001b[39m(values)] \u001b[39m#truncate timestamps to match values\u001b[39;00m\n\u001b[1;32m     <a href='vscode-notebook-cell:/Users/christopherxu/Solarcar/onboarding22/sandbox.ipynb#X16sZmlsZQ%3D%3D?line=53'>54</a>\u001b[0m     \u001b[39mreturn\u001b[39;00m forecast\n\u001b[0;32m---> <a href='vscode-notebook-cell:/Users/christopherxu/Solarcar/onboarding22/sandbox.ipynb#X16sZmlsZQ%3D%3D?line=56'>57</a>\u001b[0m get_openmeteo((\u001b[39m40.11\u001b[39;49m, \u001b[39m-\u001b[39;49m\u001b[39m33\u001b[39;49m), datetime(\u001b[39m2022\u001b[39;49m, \u001b[39m8\u001b[39;49m, \u001b[39m22\u001b[39;49m), datetime(\u001b[39m2022\u001b[39;49m, \u001b[39m8\u001b[39;49m, \u001b[39m25\u001b[39;49m))\n",
      "\u001b[1;32m/Users/christopherxu/Solarcar/onboarding22/sandbox.ipynb Cell 2\u001b[0m in \u001b[0;36mget_openmeteo\u001b[0;34m(latlong, start, stop)\u001b[0m\n\u001b[1;32m     <a href='vscode-notebook-cell:/Users/christopherxu/Solarcar/onboarding22/sandbox.ipynb#X16sZmlsZQ%3D%3D?line=42'>43</a>\u001b[0m \u001b[39mexcept\u001b[39;00m:\n\u001b[1;32m     <a href='vscode-notebook-cell:/Users/christopherxu/Solarcar/onboarding22/sandbox.ipynb#X16sZmlsZQ%3D%3D?line=43'>44</a>\u001b[0m     \u001b[39mprint\u001b[39m(response)\n\u001b[0;32m---> <a href='vscode-notebook-cell:/Users/christopherxu/Solarcar/onboarding22/sandbox.ipynb#X16sZmlsZQ%3D%3D?line=44'>45</a>\u001b[0m values \u001b[39m=\u001b[39m data[var]\n\u001b[1;32m     <a href='vscode-notebook-cell:/Users/christopherxu/Solarcar/onboarding22/sandbox.ipynb#X16sZmlsZQ%3D%3D?line=46'>47</a>\u001b[0m \u001b[39mwhile\u001b[39;00m values \u001b[39mand\u001b[39;00m values[\u001b[39m-\u001b[39m\u001b[39m1\u001b[39m] \u001b[39mis\u001b[39;00m \u001b[39mNone\u001b[39;00m:    \u001b[39m#remove trailing Nones\u001b[39;00m\n\u001b[1;32m     <a href='vscode-notebook-cell:/Users/christopherxu/Solarcar/onboarding22/sandbox.ipynb#X16sZmlsZQ%3D%3D?line=47'>48</a>\u001b[0m     values\u001b[39m.\u001b[39mpop()\n",
      "\u001b[0;31mKeyError\u001b[0m: 'diffuse_radiationwindspeed_10m'"
     ]
    }
   ],
   "source": [
    "import requests\n",
    "from datetime import datetime\n",
    "from timezonefinder import TimezoneFinder\n",
    "import matplotlib.pyplot as plt\n",
    "%matplotlib widget\n",
    "\n",
    "to_dates = np.vectorize(datetime.fromtimestamp)\n",
    "tzfinder = TimezoneFinder()\n",
    "\n",
    "def get_openmeteo(latlong, start:datetime, stop:datetime):\n",
    "\n",
    "    vars = [\n",
    "        'shortwave_radiation',      #total sun for horizontal array \n",
    "        'direct_normal_irradiance', #used to calculate total sun for tilted array\n",
    "        'diffuse_radiation',        #used to calculate total sun for tilited array (add to direct)\n",
    "        'windspeed_10m',\n",
    "        'winddirection_10m',\n",
    "    ]\n",
    "\n",
    "    #get timezone at coordinate so timestamps make sense\n",
    "    timezone = tzfinder.timezone_at(lat=latlong[0], lng=latlong[1])\n",
    "\n",
    "    forecast = {}\n",
    "    for var in vars:\n",
    "\n",
    "        response = requests.request(\n",
    "            method = \"GET\", \n",
    "            url = \"https://api.open-meteo.com/v1/forecast?\", \n",
    "            params = {\n",
    "                \"latitude\": latlong[0],\n",
    "                \"longitude\": latlong[1],\n",
    "                \"hourly\": var,\n",
    "                \"windspeed_unit\": \"ms\",\n",
    "                \"start_date\": start.strftime(\"%Y-%m-%d\"),\n",
    "                \"end_date\": stop.strftime(\"%Y-%m-%d\"),\n",
    "                \"timeformat\": \"unixtime\",\n",
    "                \"timezone\": timezone\n",
    "            }\n",
    "        ).json()\n",
    "        \n",
    "        try:\n",
    "            data = response['hourly']\n",
    "        except:\n",
    "            print(response)\n",
    "        values = data[var]\n",
    "\n",
    "        while values and values[-1] is None:    #remove trailing Nones\n",
    "            values.pop()\n",
    "        forecast[var] = values\n",
    "\n",
    "        if('dates' not in forecast):            #if \n",
    "            forecast['timestamps'] = data['time'][:len(values)] #truncate timestamps to match values\n",
    "\n",
    "    return forecast\n",
    "\n",
    "\n",
    "get_openmeteo((40.11, -33), datetime(2022, 8, 22), datetime(2022, 8, 25))\n",
    "\n",
    "\n",
    "\n",
    "# weather = {}\n",
    "# for var in ['shortwave_radiation', 'direct_radiation', 'direct_normal_irradiance', 'diffuse_radiation']:\n",
    "\n",
    "#     forecast = get_openmeteo((40.11, -33), var, datetime(2022, 8, 22), datetime(2022, 8, 25))\n",
    "\n",
    "#     if 'dates' not in weather:\n",
    "#         weather['dates'] = forecast['dates']\n",
    "    \n",
    "#     weather[var] = forecast['values']\n",
    "\n",
    "# weather['sun_flat'] = weather['shortwave_radiation']\n",
    "# weather['sun_tilt'] = weather['direct_normal_irradiance'] + weather['diffuse_radiation']\n",
    "\n",
    "# plt.figure()\n",
    "# plt.plot(weather['dates'], weather['sun_flat'], label='sun_flat')\n",
    "# plt.plot(weather['dates'], weather['sun_tilt'], label='sun_tilt')\n",
    "\n",
    "# plt.legend()\n"
   ]
  }
 ],
 "metadata": {
  "kernelspec": {
   "display_name": "Python 3.10.6 ('.venv': venv)",
   "language": "python",
   "name": "python3"
  },
  "language_info": {
   "codemirror_mode": {
    "name": "ipython",
    "version": 3
   },
   "file_extension": ".py",
   "mimetype": "text/x-python",
   "name": "python",
   "nbconvert_exporter": "python",
   "pygments_lexer": "ipython3",
   "version": "3.10.6"
  },
  "orig_nbformat": 4,
  "vscode": {
   "interpreter": {
    "hash": "1735ea333a1fb8f4f1e118e69dbfd7929f460a0265bac02d19c950d503ca77da"
   }
  }
 },
 "nbformat": 4,
 "nbformat_minor": 2
}
